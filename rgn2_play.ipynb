{
  "nbformat": 4,
  "nbformat_minor": 0,
  "metadata": {
    "accelerator": "GPU",
    "colab": {
      "name": "rgn2_play.ipynb",
      "provenance": [],
      "collapsed_sections": [],
      "machine_shape": "hm"
    },
    "kernelspec": {
      "display_name": "Python 3",
      "name": "python3"
    },
    "language_info": {
      "name": "python"
    }
  },
  "cells": [
    {
      "cell_type": "markdown",
      "metadata": {
        "id": "9Y-jmJk5S5sG"
      },
      "source": [
        "* How would coevolution implicitly affect the language model training?\n",
        "* Would kNN-style unsupervised learning useful for RGN2?"
      ]
    },
    {
      "cell_type": "code",
      "metadata": {
        "id": "SO2-ZpV7SuFi",
        "colab": {
          "base_uri": "https://localhost:8080/"
        },
        "outputId": "23e591ea-9c47-476d-e780-770340f1d78b"
      },
      "source": [
        "!git clone https://github.com/hushuangwei/rgn2-replica.git"
      ],
      "execution_count": 1,
      "outputs": [
        {
          "output_type": "stream",
          "name": "stdout",
          "text": [
            "Cloning into 'rgn2-replica'...\n",
            "remote: Enumerating objects: 864, done.\u001b[K\n",
            "remote: Counting objects: 100% (864/864), done.\u001b[K\n",
            "remote: Compressing objects: 100% (563/563), done.\u001b[K\n",
            "remote: Total 864 (delta 570), reused 559 (delta 290), pack-reused 0\u001b[K\n",
            "Receiving objects: 100% (864/864), 15.78 MiB | 16.55 MiB/s, done.\n",
            "Resolving deltas: 100% (570/570), done.\n"
          ]
        }
      ]
    },
    {
      "cell_type": "code",
      "metadata": {
        "id": "qS7DR2x_9kV_"
      },
      "source": [
        "# https://blog.csdn.net/NEUdeep/article/details/115724826\n",
        "!export PYTHONWARNINGS='ignore:semaphore_tracker:UserWarning'"
      ],
      "execution_count": 2,
      "outputs": []
    },
    {
      "cell_type": "code",
      "metadata": {
        "id": "r4w9hFGdUZmc"
      },
      "source": [
        "!pip install wandb sidechainnet einops proDy tqdm datasets transformers x-transformers pytorch-lightning fair-esm En-transformer pytorch3d"
      ],
      "execution_count": null,
      "outputs": []
    },
    {
      "cell_type": "code",
      "metadata": {
        "colab": {
          "base_uri": "https://localhost:8080/"
        },
        "id": "CYVrT9vEBthE",
        "outputId": "05f678f6-513c-4014-f25e-f22685acd2fe"
      },
      "source": [
        "%cd rgn2-replica/scripts/"
      ],
      "execution_count": 4,
      "outputs": [
        {
          "output_type": "stream",
          "name": "stdout",
          "text": [
            "/content/rgn2-replica/scripts\n"
          ]
        }
      ]
    },
    {
      "cell_type": "markdown",
      "metadata": {
        "id": "h6kBnPjeMxMw"
      },
      "source": [
        "One can skip this google drive setting and download sidechainnet data directly but more slowly"
      ]
    },
    {
      "cell_type": "code",
      "metadata": {
        "colab": {
          "base_uri": "https://localhost:8080/"
        },
        "id": "rUVr-8p-at6T",
        "outputId": "78333dec-bd75-45ea-afd5-e0931f8266f0"
      },
      "source": [
        "from google.colab import drive\n",
        "drive.mount('/content/drive')"
      ],
      "execution_count": 5,
      "outputs": [
        {
          "output_type": "stream",
          "name": "stdout",
          "text": [
            "Mounted at /content/drive\n"
          ]
        }
      ]
    },
    {
      "cell_type": "code",
      "metadata": {
        "id": "iKeXyuo6Z4-o"
      },
      "source": [
        "!mkdir -p /content/rgn2-replica/scripts/sidechainnet_data/\n",
        "!cp /content/drive/MyDrive/protein/sidechainnet_casp12_90.pkl /content/rgn2-replica/scripts/sidechainnet_data/"
      ],
      "execution_count": null,
      "outputs": []
    },
    {
      "cell_type": "code",
      "metadata": {
        "id": "t0JBGC4vHYe-"
      },
      "source": [
        "!wandb login"
      ],
      "execution_count": null,
      "outputs": []
    },
    {
      "cell_type": "code",
      "metadata": {
        "id": "Y8z-qNqGTlVh"
      },
      "source": [
        "!nohup python train_rgn2.py --device cuda:0 --wb_entity hushuangwei \\\n",
        "   --wb_proj rgn2_replica --run_name RGN2_ipa_1e-4 \\\n",
        "   --min_len_valid 50 --casp_version 12 --scn_thinning 90 \\\n",
        "   --min_len 0 --max_len 384 --input_dropout 0.1 --num_layers 6 \\\n",
        "   --bidirectional 1 --layer_type LSTM --act aconc --num_recycles_train 8 \\\n",
        "   > RGN2X_vanillaLSTM_full_run_logs.txt 2>&1 &"
      ],
      "execution_count": 51,
      "outputs": []
    },
    {
      "cell_type": "code",
      "metadata": {
        "id": "Vh2vtuZ-Uc72"
      },
      "source": [
        "!tail -f RGN2X_vanillaLSTM_full_run_logs.txt"
      ],
      "execution_count": null,
      "outputs": []
    },
    {
      "cell_type": "code",
      "metadata": {
        "id": "_tNr33PMAsiy"
      },
      "source": [
        "!pkill -f train_rgn2.py"
      ],
      "execution_count": 22,
      "outputs": []
    },
    {
      "cell_type": "code",
      "metadata": {
        "colab": {
          "base_uri": "https://localhost:8080/"
        },
        "id": "KGrjhdZB0crD",
        "outputId": "faf1c372-8de2-4dd7-fa34-53cd51a8024c"
      },
      "source": [
        "!ps aux | grep train_rgn2.py"
      ],
      "execution_count": 50,
      "outputs": [
        {
          "output_type": "stream",
          "name": "stdout",
          "text": [
            "root        3475  0.0  0.0  39200  6492 ?        S    07:45   0:00 /bin/bash -c ps aux | grep train_rgn2.py\n",
            "root        3477  0.0  0.0  38576  5524 ?        S    07:45   0:00 grep train_rgn2.py\n"
          ]
        }
      ]
    },
    {
      "cell_type": "code",
      "metadata": {
        "id": "Qa2fwnskPqRD",
        "colab": {
          "base_uri": "https://localhost:8080/"
        },
        "outputId": "71e4390e-08bd-4348-d82c-cb45cba91408"
      },
      "source": [
        "!nvidia-smi"
      ],
      "execution_count": 53,
      "outputs": [
        {
          "output_type": "stream",
          "name": "stdout",
          "text": [
            "Tue Oct  5 08:13:04 2021       \n",
            "+-----------------------------------------------------------------------------+\n",
            "| NVIDIA-SMI 470.74       Driver Version: 460.32.03    CUDA Version: 11.2     |\n",
            "|-------------------------------+----------------------+----------------------+\n",
            "| GPU  Name        Persistence-M| Bus-Id        Disp.A | Volatile Uncorr. ECC |\n",
            "| Fan  Temp  Perf  Pwr:Usage/Cap|         Memory-Usage | GPU-Util  Compute M. |\n",
            "|                               |                      |               MIG M. |\n",
            "|===============================+======================+======================|\n",
            "|   0  Tesla V100-SXM2...  Off  | 00000000:00:04.0 Off |                    0 |\n",
            "| N/A   53C    P0   103W / 300W |  11293MiB / 16160MiB |     59%      Default |\n",
            "|                               |                      |                  N/A |\n",
            "+-------------------------------+----------------------+----------------------+\n",
            "                                                                               \n",
            "+-----------------------------------------------------------------------------+\n",
            "| Processes:                                                                  |\n",
            "|  GPU   GI   CI        PID   Type   Process name                  GPU Memory |\n",
            "|        ID   ID                                                   Usage      |\n",
            "|=============================================================================|\n",
            "|  No running processes found                                                 |\n",
            "+-----------------------------------------------------------------------------+\n"
          ]
        }
      ]
    },
    {
      "cell_type": "markdown",
      "metadata": {
        "id": "jlgXayRhMa0v"
      },
      "source": [
        "# below is unfinished"
      ]
    },
    {
      "cell_type": "code",
      "metadata": {
        "id": "XYTGF1bjoeFI"
      },
      "source": [
        "def build_visualizable_structures(model, data, mode=None):\n",
        "  \"\"\"Build visualizable structures for one batch of model's predictions on data.\"\"\"\n",
        "  if torch.cuda.is_available():\n",
        "    device = torch.device(\"cuda\")\n",
        "  else:\n",
        "    device = torch.device(\"cpu\")\n",
        "  with torch.no_grad():\n",
        "    for batch in data:\n",
        "      if mode == \"seqs\":\n",
        "        model_input = batch.seqs.to(device)\n",
        "      elif mode == \"pssms\":\n",
        "        model_input = batch.seq_evo_sec.to(device)\n",
        "\n",
        "      # Make predictions for angles, and construct 3D atomic coordinates\n",
        "      predicted_angles_sincos = model(model_input)\n",
        "      predicted_angles = inverse_trig_transform(predicted_angles_sincos)\n",
        "      sb = scn.BatchedStructureBuilder(batch.int_seqs, predicted_angles.cpu())\n",
        "      break\n",
        "  return sb"
      ],
      "execution_count": null,
      "outputs": []
    },
    {
      "cell_type": "code",
      "metadata": {
        "colab": {
          "base_uri": "https://localhost:8080/"
        },
        "id": "q-y5nsoxwZSM",
        "outputId": "ed232ddb-9809-4b0e-b0e8-a07e4dffd5ea"
      },
      "source": [
        "import sidechainnet as scn\n",
        "d = scn.load(casp_version=12,\n",
        "             thinning=90,\n",
        "             with_pytorch=\"dataloaders\",\n",
        "             aggregate_model_input=False, \n",
        "             seq_as_onehot=False, \n",
        "             batch_size=8, \n",
        "             dynamic_batching=True)"
      ],
      "execution_count": null,
      "outputs": [
        {
          "name": "stdout",
          "output_type": "stream",
          "text": [
            "SidechainNet was loaded from ./sidechainnet_data/sidechainnet_casp12_90.pkl.\n"
          ]
        }
      ]
    },
    {
      "cell_type": "code",
      "metadata": {
        "id": "HgJDm6ohv0FO"
      },
      "source": [
        "import torch\n",
        "seqonly_model = \"/content/rgn2-replica/scripts/rgn2_models/RGN2X_vanillaLSTM_full_run@_128K.pt\"\n",
        "# \n",
        "# seqonly_model =  # todo: read the model\n",
        "s = build_visualizable_structures(seqonly_model, d[\"train\"], mode=\"seqs\")\n",
        "s.to_3Dmol(2)"
      ],
      "execution_count": null,
      "outputs": []
    },
    {
      "cell_type": "code",
      "metadata": {
        "id": "wD28yPldv-xi"
      },
      "source": [
        ""
      ],
      "execution_count": null,
      "outputs": []
    },
    {
      "cell_type": "markdown",
      "metadata": {
        "id": "qovzXcFDPnvC"
      },
      "source": [
        ""
      ]
    }
  ]
}